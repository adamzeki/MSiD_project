{
 "cells": [
  {
   "cell_type": "code",
   "id": "initial_id",
   "metadata": {
    "collapsed": true,
    "ExecuteTime": {
     "end_time": "2025-05-25T21:13:51.483886Z",
     "start_time": "2025-05-25T21:13:51.453407Z"
    }
   },
   "source": [
    "import pandas as pd\n",
    "import numpy as np\n",
    "\n",
    "np.random.seed(42)\n",
    "data = pd.read_csv(\"ObesityDataSet_raw_and_data_sinthetic.csv\")\n",
    "data.describe()"
   ],
   "outputs": [
    {
     "data": {
      "text/plain": [
       "               Age       Height       Weight         FCVC          NCP  \\\n",
       "count  2111.000000  2111.000000  2111.000000  2111.000000  2111.000000   \n",
       "mean     24.312600     1.701677    86.586058     2.419043     2.685628   \n",
       "std       6.345968     0.093305    26.191172     0.533927     0.778039   \n",
       "min      14.000000     1.450000    39.000000     1.000000     1.000000   \n",
       "25%      19.947192     1.630000    65.473343     2.000000     2.658738   \n",
       "50%      22.777890     1.700499    83.000000     2.385502     3.000000   \n",
       "75%      26.000000     1.768464   107.430682     3.000000     3.000000   \n",
       "max      61.000000     1.980000   173.000000     3.000000     4.000000   \n",
       "\n",
       "              CH2O          FAF          TUE  \n",
       "count  2111.000000  2111.000000  2111.000000  \n",
       "mean      2.008011     1.010298     0.657866  \n",
       "std       0.612953     0.850592     0.608927  \n",
       "min       1.000000     0.000000     0.000000  \n",
       "25%       1.584812     0.124505     0.000000  \n",
       "50%       2.000000     1.000000     0.625350  \n",
       "75%       2.477420     1.666678     1.000000  \n",
       "max       3.000000     3.000000     2.000000  "
      ],
      "text/html": [
       "<div>\n",
       "<style scoped>\n",
       "    .dataframe tbody tr th:only-of-type {\n",
       "        vertical-align: middle;\n",
       "    }\n",
       "\n",
       "    .dataframe tbody tr th {\n",
       "        vertical-align: top;\n",
       "    }\n",
       "\n",
       "    .dataframe thead th {\n",
       "        text-align: right;\n",
       "    }\n",
       "</style>\n",
       "<table border=\"1\" class=\"dataframe\">\n",
       "  <thead>\n",
       "    <tr style=\"text-align: right;\">\n",
       "      <th></th>\n",
       "      <th>Age</th>\n",
       "      <th>Height</th>\n",
       "      <th>Weight</th>\n",
       "      <th>FCVC</th>\n",
       "      <th>NCP</th>\n",
       "      <th>CH2O</th>\n",
       "      <th>FAF</th>\n",
       "      <th>TUE</th>\n",
       "    </tr>\n",
       "  </thead>\n",
       "  <tbody>\n",
       "    <tr>\n",
       "      <th>count</th>\n",
       "      <td>2111.000000</td>\n",
       "      <td>2111.000000</td>\n",
       "      <td>2111.000000</td>\n",
       "      <td>2111.000000</td>\n",
       "      <td>2111.000000</td>\n",
       "      <td>2111.000000</td>\n",
       "      <td>2111.000000</td>\n",
       "      <td>2111.000000</td>\n",
       "    </tr>\n",
       "    <tr>\n",
       "      <th>mean</th>\n",
       "      <td>24.312600</td>\n",
       "      <td>1.701677</td>\n",
       "      <td>86.586058</td>\n",
       "      <td>2.419043</td>\n",
       "      <td>2.685628</td>\n",
       "      <td>2.008011</td>\n",
       "      <td>1.010298</td>\n",
       "      <td>0.657866</td>\n",
       "    </tr>\n",
       "    <tr>\n",
       "      <th>std</th>\n",
       "      <td>6.345968</td>\n",
       "      <td>0.093305</td>\n",
       "      <td>26.191172</td>\n",
       "      <td>0.533927</td>\n",
       "      <td>0.778039</td>\n",
       "      <td>0.612953</td>\n",
       "      <td>0.850592</td>\n",
       "      <td>0.608927</td>\n",
       "    </tr>\n",
       "    <tr>\n",
       "      <th>min</th>\n",
       "      <td>14.000000</td>\n",
       "      <td>1.450000</td>\n",
       "      <td>39.000000</td>\n",
       "      <td>1.000000</td>\n",
       "      <td>1.000000</td>\n",
       "      <td>1.000000</td>\n",
       "      <td>0.000000</td>\n",
       "      <td>0.000000</td>\n",
       "    </tr>\n",
       "    <tr>\n",
       "      <th>25%</th>\n",
       "      <td>19.947192</td>\n",
       "      <td>1.630000</td>\n",
       "      <td>65.473343</td>\n",
       "      <td>2.000000</td>\n",
       "      <td>2.658738</td>\n",
       "      <td>1.584812</td>\n",
       "      <td>0.124505</td>\n",
       "      <td>0.000000</td>\n",
       "    </tr>\n",
       "    <tr>\n",
       "      <th>50%</th>\n",
       "      <td>22.777890</td>\n",
       "      <td>1.700499</td>\n",
       "      <td>83.000000</td>\n",
       "      <td>2.385502</td>\n",
       "      <td>3.000000</td>\n",
       "      <td>2.000000</td>\n",
       "      <td>1.000000</td>\n",
       "      <td>0.625350</td>\n",
       "    </tr>\n",
       "    <tr>\n",
       "      <th>75%</th>\n",
       "      <td>26.000000</td>\n",
       "      <td>1.768464</td>\n",
       "      <td>107.430682</td>\n",
       "      <td>3.000000</td>\n",
       "      <td>3.000000</td>\n",
       "      <td>2.477420</td>\n",
       "      <td>1.666678</td>\n",
       "      <td>1.000000</td>\n",
       "    </tr>\n",
       "    <tr>\n",
       "      <th>max</th>\n",
       "      <td>61.000000</td>\n",
       "      <td>1.980000</td>\n",
       "      <td>173.000000</td>\n",
       "      <td>3.000000</td>\n",
       "      <td>4.000000</td>\n",
       "      <td>3.000000</td>\n",
       "      <td>3.000000</td>\n",
       "      <td>2.000000</td>\n",
       "    </tr>\n",
       "  </tbody>\n",
       "</table>\n",
       "</div>"
      ]
     },
     "execution_count": 59,
     "metadata": {},
     "output_type": "execute_result"
    }
   ],
   "execution_count": 59
  },
  {
   "metadata": {
    "ExecuteTime": {
     "end_time": "2025-05-25T21:13:51.538018Z",
     "start_time": "2025-05-25T21:13:51.521968Z"
    }
   },
   "cell_type": "code",
   "source": [
    "print(data.info())\n",
    "print(data.head())"
   ],
   "id": "f2af75bbf9e85032",
   "outputs": [
    {
     "name": "stdout",
     "output_type": "stream",
     "text": [
      "<class 'pandas.core.frame.DataFrame'>\n",
      "RangeIndex: 2111 entries, 0 to 2110\n",
      "Data columns (total 17 columns):\n",
      " #   Column                          Non-Null Count  Dtype  \n",
      "---  ------                          --------------  -----  \n",
      " 0   Gender                          2111 non-null   object \n",
      " 1   Age                             2111 non-null   float64\n",
      " 2   Height                          2111 non-null   float64\n",
      " 3   Weight                          2111 non-null   float64\n",
      " 4   family_history_with_overweight  2111 non-null   object \n",
      " 5   FAVC                            2111 non-null   object \n",
      " 6   FCVC                            2111 non-null   float64\n",
      " 7   NCP                             2111 non-null   float64\n",
      " 8   CAEC                            2111 non-null   object \n",
      " 9   SMOKE                           2111 non-null   object \n",
      " 10  CH2O                            2111 non-null   float64\n",
      " 11  SCC                             2111 non-null   object \n",
      " 12  FAF                             2111 non-null   float64\n",
      " 13  TUE                             2111 non-null   float64\n",
      " 14  CALC                            2111 non-null   object \n",
      " 15  MTRANS                          2111 non-null   object \n",
      " 16  NObeyesdad                      2111 non-null   object \n",
      "dtypes: float64(8), object(9)\n",
      "memory usage: 280.5+ KB\n",
      "None\n",
      "   Gender   Age  Height  Weight family_history_with_overweight FAVC  FCVC  \\\n",
      "0  Female  21.0    1.62    64.0                            yes   no   2.0   \n",
      "1  Female  21.0    1.52    56.0                            yes   no   3.0   \n",
      "2    Male  23.0    1.80    77.0                            yes   no   2.0   \n",
      "3    Male  27.0    1.80    87.0                             no   no   3.0   \n",
      "4    Male  22.0    1.78    89.8                             no   no   2.0   \n",
      "\n",
      "   NCP       CAEC SMOKE  CH2O  SCC  FAF  TUE        CALC  \\\n",
      "0  3.0  Sometimes    no   2.0   no  0.0  1.0          no   \n",
      "1  3.0  Sometimes   yes   3.0  yes  3.0  0.0   Sometimes   \n",
      "2  3.0  Sometimes    no   2.0   no  2.0  1.0  Frequently   \n",
      "3  3.0  Sometimes    no   2.0   no  2.0  0.0  Frequently   \n",
      "4  1.0  Sometimes    no   2.0   no  0.0  0.0   Sometimes   \n",
      "\n",
      "                  MTRANS           NObeyesdad  \n",
      "0  Public_Transportation        Normal_Weight  \n",
      "1  Public_Transportation        Normal_Weight  \n",
      "2  Public_Transportation        Normal_Weight  \n",
      "3                Walking   Overweight_Level_I  \n",
      "4  Public_Transportation  Overweight_Level_II  \n"
     ]
    }
   ],
   "execution_count": 60
  },
  {
   "metadata": {
    "ExecuteTime": {
     "end_time": "2025-05-25T21:13:51.630074Z",
     "start_time": "2025-05-25T21:13:51.619799Z"
    }
   },
   "cell_type": "code",
   "source": [
    "from sklearn.pipeline import make_pipeline, Pipeline\n",
    "from sklearn.preprocessing import OneHotEncoder, OrdinalEncoder, LabelEncoder, StandardScaler\n",
    "from sklearn.impute import SimpleImputer\n",
    "\n",
    "nominal_cat_pipe = make_pipeline(SimpleImputer(strategy='most_frequent'), OneHotEncoder())"
   ],
   "id": "ed1b934c032c44f0",
   "outputs": [],
   "execution_count": 61
  },
  {
   "metadata": {
    "ExecuteTime": {
     "end_time": "2025-05-25T21:13:51.812343Z",
     "start_time": "2025-05-25T21:13:51.804392Z"
    }
   },
   "cell_type": "code",
   "source": [
    "from sklearn.base import BaseEstimator, TransformerMixin\n",
    "\n",
    "class DynamicOrdinalEncoder(BaseEstimator, TransformerMixin):\n",
    "    def __init__(self, categories='auto'):\n",
    "        self.categories=categories\n",
    "        self.encoder=OrdinalEncoder(categories=self.categories)\n",
    "\n",
    "    def fit(self, X, y=None):\n",
    "        self.encoder = OrdinalEncoder(categories=self.categories)\n",
    "        self.encoder.fit(X)\n",
    "        return self\n",
    "\n",
    "    def set_params(self, **params):\n",
    "        if 'categories' in params:\n",
    "            self.categories = params['categories']\n",
    "            self.encoder = OrdinalEncoder(categories=self.categories)\n",
    "        return super().set_params(**params)\n",
    "\n",
    "ordinal_cat_pipe = make_pipeline(SimpleImputer(strategy='most_frequent'),\n",
    "                                 OrdinalEncoder(categories=[\n",
    "                                        ['no', 'Sometimes', 'Frequently', 'Always'],\n",
    "                                        ['no', 'Sometimes', 'Frequently', 'Always']\n",
    "                                 ]),\n",
    "                                 StandardScaler())\n",
    "\n",
    "num_pipe = make_pipeline(SimpleImputer(strategy='median'), StandardScaler())"
   ],
   "id": "2608aae15d045e50",
   "outputs": [],
   "execution_count": 62
  },
  {
   "metadata": {
    "ExecuteTime": {
     "end_time": "2025-05-25T21:13:51.829826Z",
     "start_time": "2025-05-25T21:13:51.812343Z"
    }
   },
   "cell_type": "code",
   "source": [
    "from sklearn.compose import ColumnTransformer, make_column_selector\n",
    "from copy import deepcopy\n",
    "\n",
    "X, y = data.drop('NObeyesdad', axis=1), data['NObeyesdad']\n",
    "\n",
    "preprocessing = ColumnTransformer([\n",
    "    ('one_hot', nominal_cat_pipe, ['Gender', 'family_history_with_overweight', 'FAVC', 'SMOKE', 'SCC', 'MTRANS']),\n",
    "    ('ordinal', ordinal_cat_pipe, ['CAEC', 'CALC']),\n",
    "    ('num', num_pipe, make_column_selector(dtype_exclude='object'))\n",
    "])\n",
    "\n",
    "label_encoder = LabelEncoder()\n",
    "y = label_encoder.fit_transform(y)\n",
    "for i in range(10):\n",
    "    print(y[i])"
   ],
   "id": "480cf6a987e167ad",
   "outputs": [
    {
     "name": "stdout",
     "output_type": "stream",
     "text": [
      "1\n",
      "1\n",
      "1\n",
      "5\n",
      "6\n",
      "1\n",
      "1\n",
      "1\n",
      "1\n",
      "1\n"
     ]
    }
   ],
   "execution_count": 63
  },
  {
   "metadata": {
    "ExecuteTime": {
     "end_time": "2025-05-25T21:13:52.124283Z",
     "start_time": "2025-05-25T21:13:52.096965Z"
    }
   },
   "cell_type": "code",
   "source": [
    "X = preprocessing.fit_transform(X)\n",
    "X = pd.DataFrame(X, columns=preprocessing.get_feature_names_out())\n",
    "print(X.head())"
   ],
   "id": "8f82b42a32b96327",
   "outputs": [
    {
     "name": "stdout",
     "output_type": "stream",
     "text": [
      "   one_hot__Gender_Female  one_hot__Gender_Male  \\\n",
      "0                     1.0                   0.0   \n",
      "1                     1.0                   0.0   \n",
      "2                     0.0                   1.0   \n",
      "3                     0.0                   1.0   \n",
      "4                     0.0                   1.0   \n",
      "\n",
      "   one_hot__family_history_with_overweight_no  \\\n",
      "0                                         0.0   \n",
      "1                                         0.0   \n",
      "2                                         0.0   \n",
      "3                                         1.0   \n",
      "4                                         1.0   \n",
      "\n",
      "   one_hot__family_history_with_overweight_yes  one_hot__FAVC_no  \\\n",
      "0                                          1.0               1.0   \n",
      "1                                          1.0               1.0   \n",
      "2                                          1.0               1.0   \n",
      "3                                          0.0               1.0   \n",
      "4                                          0.0               1.0   \n",
      "\n",
      "   one_hot__FAVC_yes  one_hot__SMOKE_no  one_hot__SMOKE_yes  one_hot__SCC_no  \\\n",
      "0                0.0                1.0                 0.0              1.0   \n",
      "1                0.0                0.0                 1.0              0.0   \n",
      "2                0.0                1.0                 0.0              1.0   \n",
      "3                0.0                1.0                 0.0              1.0   \n",
      "4                0.0                1.0                 0.0              1.0   \n",
      "\n",
      "   one_hot__SCC_yes  ...  ordinal__CAEC  ordinal__CALC  num__Age  num__Height  \\\n",
      "0               0.0  ...      -0.300346      -1.419172 -0.522124    -0.875589   \n",
      "1               1.0  ...      -0.300346       0.521160 -0.522124    -1.947599   \n",
      "2               0.0  ...      -0.300346       2.461491 -0.206889     1.054029   \n",
      "3               0.0  ...      -0.300346       2.461491  0.423582     1.054029   \n",
      "4               0.0  ...      -0.300346       0.521160 -0.364507     0.839627   \n",
      "\n",
      "   num__Weight  num__FCVC  num__NCP  num__CH2O  num__FAF  num__TUE  \n",
      "0    -0.862558  -0.785019  0.404153  -0.013073 -1.188039  0.561997  \n",
      "1    -1.168077   1.088342  0.404153   1.618759  2.339750 -1.080625  \n",
      "2    -0.366090  -0.785019  0.404153  -0.013073  1.163820  0.561997  \n",
      "3     0.015808   1.088342  0.404153  -0.013073  1.163820 -1.080625  \n",
      "4     0.122740  -0.785019 -2.167023  -0.013073 -1.188039 -1.080625  \n",
      "\n",
      "[5 rows x 25 columns]\n"
     ]
    }
   ],
   "execution_count": 64
  },
  {
   "metadata": {
    "ExecuteTime": {
     "end_time": "2025-05-25T21:13:52.769079Z",
     "start_time": "2025-05-25T21:13:52.124283Z"
    }
   },
   "cell_type": "code",
   "source": [
    "from sklearn.svm import SVC\n",
    "from sklearn.ensemble import RandomForestClassifier\n",
    "from sklearn.linear_model import LogisticRegression\n",
    "from sklearn.model_selection import train_test_split, cross_val_score\n",
    "from sklearn.metrics import log_loss\n",
    "\n",
    "X_train, X_test, y_train, y_test = train_test_split(X, y, test_size=0.2, random_state=42)\n",
    "\n",
    "\n",
    "svc = SVC(probability=True, random_state=42)\n",
    "random_forest = RandomForestClassifier(random_state=42)\n",
    "log_reg = LogisticRegression(max_iter=1000, random_state=42)\n",
    "\n",
    "svc.fit(X_train, y_train)\n",
    "random_forest.fit(X_train, y_train)\n",
    "log_reg.fit(X_train, y_train)"
   ],
   "id": "37e1b4cb4b2e096f",
   "outputs": [
    {
     "data": {
      "text/plain": [
       "LogisticRegression(max_iter=1000, random_state=42)"
      ],
      "text/html": [
       "<style>#sk-container-id-3 {\n",
       "  /* Definition of color scheme common for light and dark mode */\n",
       "  --sklearn-color-text: #000;\n",
       "  --sklearn-color-text-muted: #666;\n",
       "  --sklearn-color-line: gray;\n",
       "  /* Definition of color scheme for unfitted estimators */\n",
       "  --sklearn-color-unfitted-level-0: #fff5e6;\n",
       "  --sklearn-color-unfitted-level-1: #f6e4d2;\n",
       "  --sklearn-color-unfitted-level-2: #ffe0b3;\n",
       "  --sklearn-color-unfitted-level-3: chocolate;\n",
       "  /* Definition of color scheme for fitted estimators */\n",
       "  --sklearn-color-fitted-level-0: #f0f8ff;\n",
       "  --sklearn-color-fitted-level-1: #d4ebff;\n",
       "  --sklearn-color-fitted-level-2: #b3dbfd;\n",
       "  --sklearn-color-fitted-level-3: cornflowerblue;\n",
       "\n",
       "  /* Specific color for light theme */\n",
       "  --sklearn-color-text-on-default-background: var(--sg-text-color, var(--theme-code-foreground, var(--jp-content-font-color1, black)));\n",
       "  --sklearn-color-background: var(--sg-background-color, var(--theme-background, var(--jp-layout-color0, white)));\n",
       "  --sklearn-color-border-box: var(--sg-text-color, var(--theme-code-foreground, var(--jp-content-font-color1, black)));\n",
       "  --sklearn-color-icon: #696969;\n",
       "\n",
       "  @media (prefers-color-scheme: dark) {\n",
       "    /* Redefinition of color scheme for dark theme */\n",
       "    --sklearn-color-text-on-default-background: var(--sg-text-color, var(--theme-code-foreground, var(--jp-content-font-color1, white)));\n",
       "    --sklearn-color-background: var(--sg-background-color, var(--theme-background, var(--jp-layout-color0, #111)));\n",
       "    --sklearn-color-border-box: var(--sg-text-color, var(--theme-code-foreground, var(--jp-content-font-color1, white)));\n",
       "    --sklearn-color-icon: #878787;\n",
       "  }\n",
       "}\n",
       "\n",
       "#sk-container-id-3 {\n",
       "  color: var(--sklearn-color-text);\n",
       "}\n",
       "\n",
       "#sk-container-id-3 pre {\n",
       "  padding: 0;\n",
       "}\n",
       "\n",
       "#sk-container-id-3 input.sk-hidden--visually {\n",
       "  border: 0;\n",
       "  clip: rect(1px 1px 1px 1px);\n",
       "  clip: rect(1px, 1px, 1px, 1px);\n",
       "  height: 1px;\n",
       "  margin: -1px;\n",
       "  overflow: hidden;\n",
       "  padding: 0;\n",
       "  position: absolute;\n",
       "  width: 1px;\n",
       "}\n",
       "\n",
       "#sk-container-id-3 div.sk-dashed-wrapped {\n",
       "  border: 1px dashed var(--sklearn-color-line);\n",
       "  margin: 0 0.4em 0.5em 0.4em;\n",
       "  box-sizing: border-box;\n",
       "  padding-bottom: 0.4em;\n",
       "  background-color: var(--sklearn-color-background);\n",
       "}\n",
       "\n",
       "#sk-container-id-3 div.sk-container {\n",
       "  /* jupyter's `normalize.less` sets `[hidden] { display: none; }`\n",
       "     but bootstrap.min.css set `[hidden] { display: none !important; }`\n",
       "     so we also need the `!important` here to be able to override the\n",
       "     default hidden behavior on the sphinx rendered scikit-learn.org.\n",
       "     See: https://github.com/scikit-learn/scikit-learn/issues/21755 */\n",
       "  display: inline-block !important;\n",
       "  position: relative;\n",
       "}\n",
       "\n",
       "#sk-container-id-3 div.sk-text-repr-fallback {\n",
       "  display: none;\n",
       "}\n",
       "\n",
       "div.sk-parallel-item,\n",
       "div.sk-serial,\n",
       "div.sk-item {\n",
       "  /* draw centered vertical line to link estimators */\n",
       "  background-image: linear-gradient(var(--sklearn-color-text-on-default-background), var(--sklearn-color-text-on-default-background));\n",
       "  background-size: 2px 100%;\n",
       "  background-repeat: no-repeat;\n",
       "  background-position: center center;\n",
       "}\n",
       "\n",
       "/* Parallel-specific style estimator block */\n",
       "\n",
       "#sk-container-id-3 div.sk-parallel-item::after {\n",
       "  content: \"\";\n",
       "  width: 100%;\n",
       "  border-bottom: 2px solid var(--sklearn-color-text-on-default-background);\n",
       "  flex-grow: 1;\n",
       "}\n",
       "\n",
       "#sk-container-id-3 div.sk-parallel {\n",
       "  display: flex;\n",
       "  align-items: stretch;\n",
       "  justify-content: center;\n",
       "  background-color: var(--sklearn-color-background);\n",
       "  position: relative;\n",
       "}\n",
       "\n",
       "#sk-container-id-3 div.sk-parallel-item {\n",
       "  display: flex;\n",
       "  flex-direction: column;\n",
       "}\n",
       "\n",
       "#sk-container-id-3 div.sk-parallel-item:first-child::after {\n",
       "  align-self: flex-end;\n",
       "  width: 50%;\n",
       "}\n",
       "\n",
       "#sk-container-id-3 div.sk-parallel-item:last-child::after {\n",
       "  align-self: flex-start;\n",
       "  width: 50%;\n",
       "}\n",
       "\n",
       "#sk-container-id-3 div.sk-parallel-item:only-child::after {\n",
       "  width: 0;\n",
       "}\n",
       "\n",
       "/* Serial-specific style estimator block */\n",
       "\n",
       "#sk-container-id-3 div.sk-serial {\n",
       "  display: flex;\n",
       "  flex-direction: column;\n",
       "  align-items: center;\n",
       "  background-color: var(--sklearn-color-background);\n",
       "  padding-right: 1em;\n",
       "  padding-left: 1em;\n",
       "}\n",
       "\n",
       "\n",
       "/* Toggleable style: style used for estimator/Pipeline/ColumnTransformer box that is\n",
       "clickable and can be expanded/collapsed.\n",
       "- Pipeline and ColumnTransformer use this feature and define the default style\n",
       "- Estimators will overwrite some part of the style using the `sk-estimator` class\n",
       "*/\n",
       "\n",
       "/* Pipeline and ColumnTransformer style (default) */\n",
       "\n",
       "#sk-container-id-3 div.sk-toggleable {\n",
       "  /* Default theme specific background. It is overwritten whether we have a\n",
       "  specific estimator or a Pipeline/ColumnTransformer */\n",
       "  background-color: var(--sklearn-color-background);\n",
       "}\n",
       "\n",
       "/* Toggleable label */\n",
       "#sk-container-id-3 label.sk-toggleable__label {\n",
       "  cursor: pointer;\n",
       "  display: flex;\n",
       "  width: 100%;\n",
       "  margin-bottom: 0;\n",
       "  padding: 0.5em;\n",
       "  box-sizing: border-box;\n",
       "  text-align: center;\n",
       "  align-items: start;\n",
       "  justify-content: space-between;\n",
       "  gap: 0.5em;\n",
       "}\n",
       "\n",
       "#sk-container-id-3 label.sk-toggleable__label .caption {\n",
       "  font-size: 0.6rem;\n",
       "  font-weight: lighter;\n",
       "  color: var(--sklearn-color-text-muted);\n",
       "}\n",
       "\n",
       "#sk-container-id-3 label.sk-toggleable__label-arrow:before {\n",
       "  /* Arrow on the left of the label */\n",
       "  content: \"▸\";\n",
       "  float: left;\n",
       "  margin-right: 0.25em;\n",
       "  color: var(--sklearn-color-icon);\n",
       "}\n",
       "\n",
       "#sk-container-id-3 label.sk-toggleable__label-arrow:hover:before {\n",
       "  color: var(--sklearn-color-text);\n",
       "}\n",
       "\n",
       "/* Toggleable content - dropdown */\n",
       "\n",
       "#sk-container-id-3 div.sk-toggleable__content {\n",
       "  max-height: 0;\n",
       "  max-width: 0;\n",
       "  overflow: hidden;\n",
       "  text-align: left;\n",
       "  /* unfitted */\n",
       "  background-color: var(--sklearn-color-unfitted-level-0);\n",
       "}\n",
       "\n",
       "#sk-container-id-3 div.sk-toggleable__content.fitted {\n",
       "  /* fitted */\n",
       "  background-color: var(--sklearn-color-fitted-level-0);\n",
       "}\n",
       "\n",
       "#sk-container-id-3 div.sk-toggleable__content pre {\n",
       "  margin: 0.2em;\n",
       "  border-radius: 0.25em;\n",
       "  color: var(--sklearn-color-text);\n",
       "  /* unfitted */\n",
       "  background-color: var(--sklearn-color-unfitted-level-0);\n",
       "}\n",
       "\n",
       "#sk-container-id-3 div.sk-toggleable__content.fitted pre {\n",
       "  /* unfitted */\n",
       "  background-color: var(--sklearn-color-fitted-level-0);\n",
       "}\n",
       "\n",
       "#sk-container-id-3 input.sk-toggleable__control:checked~div.sk-toggleable__content {\n",
       "  /* Expand drop-down */\n",
       "  max-height: 200px;\n",
       "  max-width: 100%;\n",
       "  overflow: auto;\n",
       "}\n",
       "\n",
       "#sk-container-id-3 input.sk-toggleable__control:checked~label.sk-toggleable__label-arrow:before {\n",
       "  content: \"▾\";\n",
       "}\n",
       "\n",
       "/* Pipeline/ColumnTransformer-specific style */\n",
       "\n",
       "#sk-container-id-3 div.sk-label input.sk-toggleable__control:checked~label.sk-toggleable__label {\n",
       "  color: var(--sklearn-color-text);\n",
       "  background-color: var(--sklearn-color-unfitted-level-2);\n",
       "}\n",
       "\n",
       "#sk-container-id-3 div.sk-label.fitted input.sk-toggleable__control:checked~label.sk-toggleable__label {\n",
       "  background-color: var(--sklearn-color-fitted-level-2);\n",
       "}\n",
       "\n",
       "/* Estimator-specific style */\n",
       "\n",
       "/* Colorize estimator box */\n",
       "#sk-container-id-3 div.sk-estimator input.sk-toggleable__control:checked~label.sk-toggleable__label {\n",
       "  /* unfitted */\n",
       "  background-color: var(--sklearn-color-unfitted-level-2);\n",
       "}\n",
       "\n",
       "#sk-container-id-3 div.sk-estimator.fitted input.sk-toggleable__control:checked~label.sk-toggleable__label {\n",
       "  /* fitted */\n",
       "  background-color: var(--sklearn-color-fitted-level-2);\n",
       "}\n",
       "\n",
       "#sk-container-id-3 div.sk-label label.sk-toggleable__label,\n",
       "#sk-container-id-3 div.sk-label label {\n",
       "  /* The background is the default theme color */\n",
       "  color: var(--sklearn-color-text-on-default-background);\n",
       "}\n",
       "\n",
       "/* On hover, darken the color of the background */\n",
       "#sk-container-id-3 div.sk-label:hover label.sk-toggleable__label {\n",
       "  color: var(--sklearn-color-text);\n",
       "  background-color: var(--sklearn-color-unfitted-level-2);\n",
       "}\n",
       "\n",
       "/* Label box, darken color on hover, fitted */\n",
       "#sk-container-id-3 div.sk-label.fitted:hover label.sk-toggleable__label.fitted {\n",
       "  color: var(--sklearn-color-text);\n",
       "  background-color: var(--sklearn-color-fitted-level-2);\n",
       "}\n",
       "\n",
       "/* Estimator label */\n",
       "\n",
       "#sk-container-id-3 div.sk-label label {\n",
       "  font-family: monospace;\n",
       "  font-weight: bold;\n",
       "  display: inline-block;\n",
       "  line-height: 1.2em;\n",
       "}\n",
       "\n",
       "#sk-container-id-3 div.sk-label-container {\n",
       "  text-align: center;\n",
       "}\n",
       "\n",
       "/* Estimator-specific */\n",
       "#sk-container-id-3 div.sk-estimator {\n",
       "  font-family: monospace;\n",
       "  border: 1px dotted var(--sklearn-color-border-box);\n",
       "  border-radius: 0.25em;\n",
       "  box-sizing: border-box;\n",
       "  margin-bottom: 0.5em;\n",
       "  /* unfitted */\n",
       "  background-color: var(--sklearn-color-unfitted-level-0);\n",
       "}\n",
       "\n",
       "#sk-container-id-3 div.sk-estimator.fitted {\n",
       "  /* fitted */\n",
       "  background-color: var(--sklearn-color-fitted-level-0);\n",
       "}\n",
       "\n",
       "/* on hover */\n",
       "#sk-container-id-3 div.sk-estimator:hover {\n",
       "  /* unfitted */\n",
       "  background-color: var(--sklearn-color-unfitted-level-2);\n",
       "}\n",
       "\n",
       "#sk-container-id-3 div.sk-estimator.fitted:hover {\n",
       "  /* fitted */\n",
       "  background-color: var(--sklearn-color-fitted-level-2);\n",
       "}\n",
       "\n",
       "/* Specification for estimator info (e.g. \"i\" and \"?\") */\n",
       "\n",
       "/* Common style for \"i\" and \"?\" */\n",
       "\n",
       ".sk-estimator-doc-link,\n",
       "a:link.sk-estimator-doc-link,\n",
       "a:visited.sk-estimator-doc-link {\n",
       "  float: right;\n",
       "  font-size: smaller;\n",
       "  line-height: 1em;\n",
       "  font-family: monospace;\n",
       "  background-color: var(--sklearn-color-background);\n",
       "  border-radius: 1em;\n",
       "  height: 1em;\n",
       "  width: 1em;\n",
       "  text-decoration: none !important;\n",
       "  margin-left: 0.5em;\n",
       "  text-align: center;\n",
       "  /* unfitted */\n",
       "  border: var(--sklearn-color-unfitted-level-1) 1pt solid;\n",
       "  color: var(--sklearn-color-unfitted-level-1);\n",
       "}\n",
       "\n",
       ".sk-estimator-doc-link.fitted,\n",
       "a:link.sk-estimator-doc-link.fitted,\n",
       "a:visited.sk-estimator-doc-link.fitted {\n",
       "  /* fitted */\n",
       "  border: var(--sklearn-color-fitted-level-1) 1pt solid;\n",
       "  color: var(--sklearn-color-fitted-level-1);\n",
       "}\n",
       "\n",
       "/* On hover */\n",
       "div.sk-estimator:hover .sk-estimator-doc-link:hover,\n",
       ".sk-estimator-doc-link:hover,\n",
       "div.sk-label-container:hover .sk-estimator-doc-link:hover,\n",
       ".sk-estimator-doc-link:hover {\n",
       "  /* unfitted */\n",
       "  background-color: var(--sklearn-color-unfitted-level-3);\n",
       "  color: var(--sklearn-color-background);\n",
       "  text-decoration: none;\n",
       "}\n",
       "\n",
       "div.sk-estimator.fitted:hover .sk-estimator-doc-link.fitted:hover,\n",
       ".sk-estimator-doc-link.fitted:hover,\n",
       "div.sk-label-container:hover .sk-estimator-doc-link.fitted:hover,\n",
       ".sk-estimator-doc-link.fitted:hover {\n",
       "  /* fitted */\n",
       "  background-color: var(--sklearn-color-fitted-level-3);\n",
       "  color: var(--sklearn-color-background);\n",
       "  text-decoration: none;\n",
       "}\n",
       "\n",
       "/* Span, style for the box shown on hovering the info icon */\n",
       ".sk-estimator-doc-link span {\n",
       "  display: none;\n",
       "  z-index: 9999;\n",
       "  position: relative;\n",
       "  font-weight: normal;\n",
       "  right: .2ex;\n",
       "  padding: .5ex;\n",
       "  margin: .5ex;\n",
       "  width: min-content;\n",
       "  min-width: 20ex;\n",
       "  max-width: 50ex;\n",
       "  color: var(--sklearn-color-text);\n",
       "  box-shadow: 2pt 2pt 4pt #999;\n",
       "  /* unfitted */\n",
       "  background: var(--sklearn-color-unfitted-level-0);\n",
       "  border: .5pt solid var(--sklearn-color-unfitted-level-3);\n",
       "}\n",
       "\n",
       ".sk-estimator-doc-link.fitted span {\n",
       "  /* fitted */\n",
       "  background: var(--sklearn-color-fitted-level-0);\n",
       "  border: var(--sklearn-color-fitted-level-3);\n",
       "}\n",
       "\n",
       ".sk-estimator-doc-link:hover span {\n",
       "  display: block;\n",
       "}\n",
       "\n",
       "/* \"?\"-specific style due to the `<a>` HTML tag */\n",
       "\n",
       "#sk-container-id-3 a.estimator_doc_link {\n",
       "  float: right;\n",
       "  font-size: 1rem;\n",
       "  line-height: 1em;\n",
       "  font-family: monospace;\n",
       "  background-color: var(--sklearn-color-background);\n",
       "  border-radius: 1rem;\n",
       "  height: 1rem;\n",
       "  width: 1rem;\n",
       "  text-decoration: none;\n",
       "  /* unfitted */\n",
       "  color: var(--sklearn-color-unfitted-level-1);\n",
       "  border: var(--sklearn-color-unfitted-level-1) 1pt solid;\n",
       "}\n",
       "\n",
       "#sk-container-id-3 a.estimator_doc_link.fitted {\n",
       "  /* fitted */\n",
       "  border: var(--sklearn-color-fitted-level-1) 1pt solid;\n",
       "  color: var(--sklearn-color-fitted-level-1);\n",
       "}\n",
       "\n",
       "/* On hover */\n",
       "#sk-container-id-3 a.estimator_doc_link:hover {\n",
       "  /* unfitted */\n",
       "  background-color: var(--sklearn-color-unfitted-level-3);\n",
       "  color: var(--sklearn-color-background);\n",
       "  text-decoration: none;\n",
       "}\n",
       "\n",
       "#sk-container-id-3 a.estimator_doc_link.fitted:hover {\n",
       "  /* fitted */\n",
       "  background-color: var(--sklearn-color-fitted-level-3);\n",
       "}\n",
       "</style><div id=\"sk-container-id-3\" class=\"sk-top-container\"><div class=\"sk-text-repr-fallback\"><pre>LogisticRegression(max_iter=1000, random_state=42)</pre><b>In a Jupyter environment, please rerun this cell to show the HTML representation or trust the notebook. <br />On GitHub, the HTML representation is unable to render, please try loading this page with nbviewer.org.</b></div><div class=\"sk-container\" hidden><div class=\"sk-item\"><div class=\"sk-estimator fitted sk-toggleable\"><input class=\"sk-toggleable__control sk-hidden--visually\" id=\"sk-estimator-id-3\" type=\"checkbox\" checked><label for=\"sk-estimator-id-3\" class=\"sk-toggleable__label fitted sk-toggleable__label-arrow\"><div><div>LogisticRegression</div></div><div><a class=\"sk-estimator-doc-link fitted\" rel=\"noreferrer\" target=\"_blank\" href=\"https://scikit-learn.org/1.6/modules/generated/sklearn.linear_model.LogisticRegression.html\">?<span>Documentation for LogisticRegression</span></a><span class=\"sk-estimator-doc-link fitted\">i<span>Fitted</span></span></div></label><div class=\"sk-toggleable__content fitted\"><pre>LogisticRegression(max_iter=1000, random_state=42)</pre></div> </div></div></div></div>"
      ]
     },
     "execution_count": 65,
     "metadata": {},
     "output_type": "execute_result"
    }
   ],
   "execution_count": 65
  },
  {
   "metadata": {},
   "cell_type": "markdown",
   "source": "log_loss sprawdza jak dobre są przewidziane prawdopodobieństwa. Kara złe i zbyt pewne predykcje. Im mniej tym lepiej",
   "id": "eec3b63433f5f9f9"
  },
  {
   "metadata": {
    "ExecuteTime": {
     "end_time": "2025-05-25T21:13:52.920289Z",
     "start_time": "2025-05-25T21:13:52.870976Z"
    }
   },
   "cell_type": "code",
   "source": [
    "print(log_loss(y_test, svc.predict_proba(X_test)))\n",
    "print(log_loss(y_test, random_forest.predict_proba(X_test)))\n",
    "print(log_loss(y_test, log_reg.predict_proba(X_test)))"
   ],
   "id": "991e5a3a71f4340a",
   "outputs": [
    {
     "name": "stdout",
     "output_type": "stream",
     "text": [
      "0.23444223121804791\n",
      "0.2839459917183126\n",
      "0.4082646561713242\n"
     ]
    }
   ],
   "execution_count": 66
  },
  {
   "metadata": {},
   "cell_type": "markdown",
   "source": "cross_val_score sprawdza celność, czyli ile procent przewidzianych labeli zgadza się z prawdziwymi",
   "id": "de336ac9928eb4a"
  },
  {
   "metadata": {
    "ExecuteTime": {
     "end_time": "2025-05-25T21:13:55.085200Z",
     "start_time": "2025-05-25T21:13:53.037260Z"
    }
   },
   "cell_type": "code",
   "source": [
    "print(cross_val_score(SVC(random_state=42), X, y))\n",
    "print(cross_val_score(RandomForestClassifier(random_state=42), X, y))\n",
    "print(cross_val_score(LogisticRegression(max_iter=1000, random_state=42), X, y))"
   ],
   "id": "dd073b60b1b57e42",
   "outputs": [
    {
     "name": "stdout",
     "output_type": "stream",
     "text": [
      "[0.70685579 0.93838863 0.92890995 0.94312796 0.95971564]\n",
      "[0.72576832 0.97630332 0.98341232 0.98341232 0.98815166]\n",
      "[0.70212766 0.91469194 0.89336493 0.91943128 0.91943128]\n"
     ]
    }
   ],
   "execution_count": 67
  },
  {
   "metadata": {},
   "cell_type": "markdown",
   "source": [
    "# Własne implementacje\n",
    "Regresja liniowa z zamkniętą formułą"
   ],
   "id": "8f61baa676574b36"
  },
  {
   "metadata": {
    "ExecuteTime": {
     "end_time": "2025-05-25T21:13:55.420230Z",
     "start_time": "2025-05-25T21:13:55.409146Z"
    }
   },
   "cell_type": "code",
   "source": [
    "from sklearn.metrics import root_mean_squared_error\n",
    "\n",
    "def closed_form_lin_reg(X, y):\n",
    "    X = np.c_[np.ones((X.shape[0], 1)), X] # adding bias column\n",
    "    pars = np.linalg.inv(X.T @ X) @ X.T @ y\n",
    "    return pars\n",
    "\n",
    "X_lin = data[['Height', 'Age']].to_numpy()\n",
    "y_lin = data['Weight'].to_numpy()\n",
    "\n",
    "X_lin_train, X_lin_test, y_lin_train, y_lin_test = train_test_split(X_lin, y_lin, test_size=0.2, random_state=42)\n",
    "\n",
    "pars = closed_form_lin_reg(X_lin_train, y_lin_train)\n",
    "print(pars)\n",
    "y_lin_pred = np.c_[np.ones((X_lin_test.shape[0], 1)), X_lin_test] @ pars\n",
    "\n",
    "print(root_mean_squared_error(y_lin_test, y_lin_pred))"
   ],
   "id": "258b599b4b709c5b",
   "outputs": [
    {
     "name": "stdout",
     "output_type": "stream",
     "text": [
      "[-156.62010215  130.68210655    0.85271068]\n",
      "22.743273289591187\n"
     ]
    }
   ],
   "execution_count": 68
  },
  {
   "metadata": {
    "ExecuteTime": {
     "end_time": "2025-05-25T21:13:55.434805Z",
     "start_time": "2025-05-25T21:13:55.424221Z"
    }
   },
   "cell_type": "code",
   "source": [
    "from sklearn.linear_model import LinearRegression\n",
    "\n",
    "lin_reg_sklearn = LinearRegression()\n",
    "lin_reg_sklearn.fit(X_lin_train, y_lin_train)\n",
    "\n",
    "y_lin_pred = lin_reg_sklearn.predict(X_lin_test)\n",
    "print(root_mean_squared_error(y_lin_test, y_lin_pred))"
   ],
   "id": "4d5f3edac7bb3382",
   "outputs": [
    {
     "name": "stdout",
     "output_type": "stream",
     "text": [
      "22.74327328959121\n"
     ]
    }
   ],
   "execution_count": 69
  },
  {
   "metadata": {},
   "cell_type": "markdown",
   "source": [
    "Moja implementacja - praktycznie identyczny RMSE do sklearnowej\n",
    "\n",
    "Nieużywana bo zbyt wysoka złożoność, ponadto działa tylko dla liniowych związków\n",
    "\n",
    "Regresja softmax, bo przewidujemy wiele klas"
   ],
   "id": "1794d075f4b16cc6"
  },
  {
   "metadata": {
    "ExecuteTime": {
     "end_time": "2025-05-25T21:13:57.090960Z",
     "start_time": "2025-05-25T21:13:55.635583Z"
    }
   },
   "cell_type": "code",
   "source": [
    "from sklearn.metrics import accuracy_score\n",
    "\n",
    "def softmax(x):\n",
    "    x_exp = np.exp(x - np.max(x, axis=1, keepdims=True)) # thanks to this we avoid too large exponentials, without changing the result of softmax\n",
    "    return x_exp / np.sum(x_exp, axis=1, keepdims=True)\n",
    "\n",
    "def cross_entropy_multiclass(y_true, y_pred):\n",
    "    eps = 1e-15\n",
    "    y_pred = np.clip(y_pred, eps, 1-eps) #avoiding log(0) and log(1)\n",
    "    return -np.mean(np.sum(y_true * np.log(y_pred), axis=1))\n",
    "\n",
    "def softmax_regression(X, y, n_classes=7, learning_rate=0.01, iters=1000, batch_size=20, l1=0.0, l2=0.0):\n",
    "    X = np.c_[np.ones((X.shape[0], 1)), X] # adding bias column\n",
    "\n",
    "    y_one_hot = np.zeros((X.shape[0], n_classes))\n",
    "    y_one_hot[np.arange(X.shape[0]), y] = 1\n",
    "\n",
    "    pars = np.zeros((X.shape[1], n_classes))\n",
    "\n",
    "    for _ in range(iters):\n",
    "        for i in range(0, X.shape[0], batch_size):\n",
    "            X_batch = X[i : i+batch_size]\n",
    "            y_one_hot_batch = y_one_hot[i : i+batch_size]\n",
    "\n",
    "            logits = X_batch @ pars\n",
    "            probs = softmax(logits)\n",
    "\n",
    "            gradient = X_batch.T @ (probs - y_one_hot_batch) / X_batch.shape[0]\n",
    "\n",
    "            if l2 > 0:\n",
    "                gradient += 2 * l2 * pars # derivative of pars^2\n",
    "\n",
    "            if l1 > 0:\n",
    "                gradient += l1 * np.sign(pars) # \"derivative\" of |pars|\n",
    "\n",
    "            pars -= learning_rate * gradient\n",
    "\n",
    "    return pars\n",
    "\n",
    "def predict_softmax(X, pars):\n",
    "    X = np.c_[np.ones((X.shape[0], 1)), X]\n",
    "    probs = softmax(X @ pars)\n",
    "    return np.argmax(probs, axis=1), probs\n",
    "\n",
    "pars = softmax_regression(X_train, y_train)\n",
    "\n",
    "y_pred_labels, y_pred_probs = predict_softmax(X_test, pars)\n",
    "\n",
    "print(accuracy_score(y_test, y_pred_labels))\n",
    "\n",
    "y_test_one_hot = np.zeros((len(y_test), 7))\n",
    "y_test_one_hot[np.arange(len(y_test)), y_test] = 1\n",
    "\n",
    "print(cross_entropy_multiclass(y_test_one_hot, y_pred_probs))"
   ],
   "id": "efe7f58fef2e86af",
   "outputs": [
    {
     "name": "stdout",
     "output_type": "stream",
     "text": [
      "0.8747044917257684\n",
      "0.41063453476331024\n"
     ]
    }
   ],
   "execution_count": 70
  },
  {
   "metadata": {},
   "cell_type": "markdown",
   "source": [
    "Moja implementacja działa porównywalnie, a nawet trochę lepiej od sklearn\n",
    "\n",
    "# Validation set"
   ],
   "id": "fc12c63b62a748dc"
  },
  {
   "metadata": {
    "ExecuteTime": {
     "end_time": "2025-05-25T21:13:57.678831Z",
     "start_time": "2025-05-25T21:13:57.231931Z"
    }
   },
   "cell_type": "code",
   "source": [
    "X_train_n, X_val, y_train_n, y_val = train_test_split(X_train, y_train, test_size=0.2, random_state=42)\n",
    "\n",
    "svc = SVC(probability=True, random_state=42)\n",
    "random_forest = RandomForestClassifier(random_state=42)\n",
    "log_reg = LogisticRegression(max_iter=1000, random_state=42)\n",
    "\n",
    "svc.fit(X_train_n, y_train_n)\n",
    "random_forest.fit(X_train_n, y_train_n)\n",
    "log_reg.fit(X_train_n, y_train_n)"
   ],
   "id": "7cff1680ba8aa219",
   "outputs": [
    {
     "data": {
      "text/plain": [
       "LogisticRegression(max_iter=1000, random_state=42)"
      ],
      "text/html": [
       "<style>#sk-container-id-4 {\n",
       "  /* Definition of color scheme common for light and dark mode */\n",
       "  --sklearn-color-text: #000;\n",
       "  --sklearn-color-text-muted: #666;\n",
       "  --sklearn-color-line: gray;\n",
       "  /* Definition of color scheme for unfitted estimators */\n",
       "  --sklearn-color-unfitted-level-0: #fff5e6;\n",
       "  --sklearn-color-unfitted-level-1: #f6e4d2;\n",
       "  --sklearn-color-unfitted-level-2: #ffe0b3;\n",
       "  --sklearn-color-unfitted-level-3: chocolate;\n",
       "  /* Definition of color scheme for fitted estimators */\n",
       "  --sklearn-color-fitted-level-0: #f0f8ff;\n",
       "  --sklearn-color-fitted-level-1: #d4ebff;\n",
       "  --sklearn-color-fitted-level-2: #b3dbfd;\n",
       "  --sklearn-color-fitted-level-3: cornflowerblue;\n",
       "\n",
       "  /* Specific color for light theme */\n",
       "  --sklearn-color-text-on-default-background: var(--sg-text-color, var(--theme-code-foreground, var(--jp-content-font-color1, black)));\n",
       "  --sklearn-color-background: var(--sg-background-color, var(--theme-background, var(--jp-layout-color0, white)));\n",
       "  --sklearn-color-border-box: var(--sg-text-color, var(--theme-code-foreground, var(--jp-content-font-color1, black)));\n",
       "  --sklearn-color-icon: #696969;\n",
       "\n",
       "  @media (prefers-color-scheme: dark) {\n",
       "    /* Redefinition of color scheme for dark theme */\n",
       "    --sklearn-color-text-on-default-background: var(--sg-text-color, var(--theme-code-foreground, var(--jp-content-font-color1, white)));\n",
       "    --sklearn-color-background: var(--sg-background-color, var(--theme-background, var(--jp-layout-color0, #111)));\n",
       "    --sklearn-color-border-box: var(--sg-text-color, var(--theme-code-foreground, var(--jp-content-font-color1, white)));\n",
       "    --sklearn-color-icon: #878787;\n",
       "  }\n",
       "}\n",
       "\n",
       "#sk-container-id-4 {\n",
       "  color: var(--sklearn-color-text);\n",
       "}\n",
       "\n",
       "#sk-container-id-4 pre {\n",
       "  padding: 0;\n",
       "}\n",
       "\n",
       "#sk-container-id-4 input.sk-hidden--visually {\n",
       "  border: 0;\n",
       "  clip: rect(1px 1px 1px 1px);\n",
       "  clip: rect(1px, 1px, 1px, 1px);\n",
       "  height: 1px;\n",
       "  margin: -1px;\n",
       "  overflow: hidden;\n",
       "  padding: 0;\n",
       "  position: absolute;\n",
       "  width: 1px;\n",
       "}\n",
       "\n",
       "#sk-container-id-4 div.sk-dashed-wrapped {\n",
       "  border: 1px dashed var(--sklearn-color-line);\n",
       "  margin: 0 0.4em 0.5em 0.4em;\n",
       "  box-sizing: border-box;\n",
       "  padding-bottom: 0.4em;\n",
       "  background-color: var(--sklearn-color-background);\n",
       "}\n",
       "\n",
       "#sk-container-id-4 div.sk-container {\n",
       "  /* jupyter's `normalize.less` sets `[hidden] { display: none; }`\n",
       "     but bootstrap.min.css set `[hidden] { display: none !important; }`\n",
       "     so we also need the `!important` here to be able to override the\n",
       "     default hidden behavior on the sphinx rendered scikit-learn.org.\n",
       "     See: https://github.com/scikit-learn/scikit-learn/issues/21755 */\n",
       "  display: inline-block !important;\n",
       "  position: relative;\n",
       "}\n",
       "\n",
       "#sk-container-id-4 div.sk-text-repr-fallback {\n",
       "  display: none;\n",
       "}\n",
       "\n",
       "div.sk-parallel-item,\n",
       "div.sk-serial,\n",
       "div.sk-item {\n",
       "  /* draw centered vertical line to link estimators */\n",
       "  background-image: linear-gradient(var(--sklearn-color-text-on-default-background), var(--sklearn-color-text-on-default-background));\n",
       "  background-size: 2px 100%;\n",
       "  background-repeat: no-repeat;\n",
       "  background-position: center center;\n",
       "}\n",
       "\n",
       "/* Parallel-specific style estimator block */\n",
       "\n",
       "#sk-container-id-4 div.sk-parallel-item::after {\n",
       "  content: \"\";\n",
       "  width: 100%;\n",
       "  border-bottom: 2px solid var(--sklearn-color-text-on-default-background);\n",
       "  flex-grow: 1;\n",
       "}\n",
       "\n",
       "#sk-container-id-4 div.sk-parallel {\n",
       "  display: flex;\n",
       "  align-items: stretch;\n",
       "  justify-content: center;\n",
       "  background-color: var(--sklearn-color-background);\n",
       "  position: relative;\n",
       "}\n",
       "\n",
       "#sk-container-id-4 div.sk-parallel-item {\n",
       "  display: flex;\n",
       "  flex-direction: column;\n",
       "}\n",
       "\n",
       "#sk-container-id-4 div.sk-parallel-item:first-child::after {\n",
       "  align-self: flex-end;\n",
       "  width: 50%;\n",
       "}\n",
       "\n",
       "#sk-container-id-4 div.sk-parallel-item:last-child::after {\n",
       "  align-self: flex-start;\n",
       "  width: 50%;\n",
       "}\n",
       "\n",
       "#sk-container-id-4 div.sk-parallel-item:only-child::after {\n",
       "  width: 0;\n",
       "}\n",
       "\n",
       "/* Serial-specific style estimator block */\n",
       "\n",
       "#sk-container-id-4 div.sk-serial {\n",
       "  display: flex;\n",
       "  flex-direction: column;\n",
       "  align-items: center;\n",
       "  background-color: var(--sklearn-color-background);\n",
       "  padding-right: 1em;\n",
       "  padding-left: 1em;\n",
       "}\n",
       "\n",
       "\n",
       "/* Toggleable style: style used for estimator/Pipeline/ColumnTransformer box that is\n",
       "clickable and can be expanded/collapsed.\n",
       "- Pipeline and ColumnTransformer use this feature and define the default style\n",
       "- Estimators will overwrite some part of the style using the `sk-estimator` class\n",
       "*/\n",
       "\n",
       "/* Pipeline and ColumnTransformer style (default) */\n",
       "\n",
       "#sk-container-id-4 div.sk-toggleable {\n",
       "  /* Default theme specific background. It is overwritten whether we have a\n",
       "  specific estimator or a Pipeline/ColumnTransformer */\n",
       "  background-color: var(--sklearn-color-background);\n",
       "}\n",
       "\n",
       "/* Toggleable label */\n",
       "#sk-container-id-4 label.sk-toggleable__label {\n",
       "  cursor: pointer;\n",
       "  display: flex;\n",
       "  width: 100%;\n",
       "  margin-bottom: 0;\n",
       "  padding: 0.5em;\n",
       "  box-sizing: border-box;\n",
       "  text-align: center;\n",
       "  align-items: start;\n",
       "  justify-content: space-between;\n",
       "  gap: 0.5em;\n",
       "}\n",
       "\n",
       "#sk-container-id-4 label.sk-toggleable__label .caption {\n",
       "  font-size: 0.6rem;\n",
       "  font-weight: lighter;\n",
       "  color: var(--sklearn-color-text-muted);\n",
       "}\n",
       "\n",
       "#sk-container-id-4 label.sk-toggleable__label-arrow:before {\n",
       "  /* Arrow on the left of the label */\n",
       "  content: \"▸\";\n",
       "  float: left;\n",
       "  margin-right: 0.25em;\n",
       "  color: var(--sklearn-color-icon);\n",
       "}\n",
       "\n",
       "#sk-container-id-4 label.sk-toggleable__label-arrow:hover:before {\n",
       "  color: var(--sklearn-color-text);\n",
       "}\n",
       "\n",
       "/* Toggleable content - dropdown */\n",
       "\n",
       "#sk-container-id-4 div.sk-toggleable__content {\n",
       "  max-height: 0;\n",
       "  max-width: 0;\n",
       "  overflow: hidden;\n",
       "  text-align: left;\n",
       "  /* unfitted */\n",
       "  background-color: var(--sklearn-color-unfitted-level-0);\n",
       "}\n",
       "\n",
       "#sk-container-id-4 div.sk-toggleable__content.fitted {\n",
       "  /* fitted */\n",
       "  background-color: var(--sklearn-color-fitted-level-0);\n",
       "}\n",
       "\n",
       "#sk-container-id-4 div.sk-toggleable__content pre {\n",
       "  margin: 0.2em;\n",
       "  border-radius: 0.25em;\n",
       "  color: var(--sklearn-color-text);\n",
       "  /* unfitted */\n",
       "  background-color: var(--sklearn-color-unfitted-level-0);\n",
       "}\n",
       "\n",
       "#sk-container-id-4 div.sk-toggleable__content.fitted pre {\n",
       "  /* unfitted */\n",
       "  background-color: var(--sklearn-color-fitted-level-0);\n",
       "}\n",
       "\n",
       "#sk-container-id-4 input.sk-toggleable__control:checked~div.sk-toggleable__content {\n",
       "  /* Expand drop-down */\n",
       "  max-height: 200px;\n",
       "  max-width: 100%;\n",
       "  overflow: auto;\n",
       "}\n",
       "\n",
       "#sk-container-id-4 input.sk-toggleable__control:checked~label.sk-toggleable__label-arrow:before {\n",
       "  content: \"▾\";\n",
       "}\n",
       "\n",
       "/* Pipeline/ColumnTransformer-specific style */\n",
       "\n",
       "#sk-container-id-4 div.sk-label input.sk-toggleable__control:checked~label.sk-toggleable__label {\n",
       "  color: var(--sklearn-color-text);\n",
       "  background-color: var(--sklearn-color-unfitted-level-2);\n",
       "}\n",
       "\n",
       "#sk-container-id-4 div.sk-label.fitted input.sk-toggleable__control:checked~label.sk-toggleable__label {\n",
       "  background-color: var(--sklearn-color-fitted-level-2);\n",
       "}\n",
       "\n",
       "/* Estimator-specific style */\n",
       "\n",
       "/* Colorize estimator box */\n",
       "#sk-container-id-4 div.sk-estimator input.sk-toggleable__control:checked~label.sk-toggleable__label {\n",
       "  /* unfitted */\n",
       "  background-color: var(--sklearn-color-unfitted-level-2);\n",
       "}\n",
       "\n",
       "#sk-container-id-4 div.sk-estimator.fitted input.sk-toggleable__control:checked~label.sk-toggleable__label {\n",
       "  /* fitted */\n",
       "  background-color: var(--sklearn-color-fitted-level-2);\n",
       "}\n",
       "\n",
       "#sk-container-id-4 div.sk-label label.sk-toggleable__label,\n",
       "#sk-container-id-4 div.sk-label label {\n",
       "  /* The background is the default theme color */\n",
       "  color: var(--sklearn-color-text-on-default-background);\n",
       "}\n",
       "\n",
       "/* On hover, darken the color of the background */\n",
       "#sk-container-id-4 div.sk-label:hover label.sk-toggleable__label {\n",
       "  color: var(--sklearn-color-text);\n",
       "  background-color: var(--sklearn-color-unfitted-level-2);\n",
       "}\n",
       "\n",
       "/* Label box, darken color on hover, fitted */\n",
       "#sk-container-id-4 div.sk-label.fitted:hover label.sk-toggleable__label.fitted {\n",
       "  color: var(--sklearn-color-text);\n",
       "  background-color: var(--sklearn-color-fitted-level-2);\n",
       "}\n",
       "\n",
       "/* Estimator label */\n",
       "\n",
       "#sk-container-id-4 div.sk-label label {\n",
       "  font-family: monospace;\n",
       "  font-weight: bold;\n",
       "  display: inline-block;\n",
       "  line-height: 1.2em;\n",
       "}\n",
       "\n",
       "#sk-container-id-4 div.sk-label-container {\n",
       "  text-align: center;\n",
       "}\n",
       "\n",
       "/* Estimator-specific */\n",
       "#sk-container-id-4 div.sk-estimator {\n",
       "  font-family: monospace;\n",
       "  border: 1px dotted var(--sklearn-color-border-box);\n",
       "  border-radius: 0.25em;\n",
       "  box-sizing: border-box;\n",
       "  margin-bottom: 0.5em;\n",
       "  /* unfitted */\n",
       "  background-color: var(--sklearn-color-unfitted-level-0);\n",
       "}\n",
       "\n",
       "#sk-container-id-4 div.sk-estimator.fitted {\n",
       "  /* fitted */\n",
       "  background-color: var(--sklearn-color-fitted-level-0);\n",
       "}\n",
       "\n",
       "/* on hover */\n",
       "#sk-container-id-4 div.sk-estimator:hover {\n",
       "  /* unfitted */\n",
       "  background-color: var(--sklearn-color-unfitted-level-2);\n",
       "}\n",
       "\n",
       "#sk-container-id-4 div.sk-estimator.fitted:hover {\n",
       "  /* fitted */\n",
       "  background-color: var(--sklearn-color-fitted-level-2);\n",
       "}\n",
       "\n",
       "/* Specification for estimator info (e.g. \"i\" and \"?\") */\n",
       "\n",
       "/* Common style for \"i\" and \"?\" */\n",
       "\n",
       ".sk-estimator-doc-link,\n",
       "a:link.sk-estimator-doc-link,\n",
       "a:visited.sk-estimator-doc-link {\n",
       "  float: right;\n",
       "  font-size: smaller;\n",
       "  line-height: 1em;\n",
       "  font-family: monospace;\n",
       "  background-color: var(--sklearn-color-background);\n",
       "  border-radius: 1em;\n",
       "  height: 1em;\n",
       "  width: 1em;\n",
       "  text-decoration: none !important;\n",
       "  margin-left: 0.5em;\n",
       "  text-align: center;\n",
       "  /* unfitted */\n",
       "  border: var(--sklearn-color-unfitted-level-1) 1pt solid;\n",
       "  color: var(--sklearn-color-unfitted-level-1);\n",
       "}\n",
       "\n",
       ".sk-estimator-doc-link.fitted,\n",
       "a:link.sk-estimator-doc-link.fitted,\n",
       "a:visited.sk-estimator-doc-link.fitted {\n",
       "  /* fitted */\n",
       "  border: var(--sklearn-color-fitted-level-1) 1pt solid;\n",
       "  color: var(--sklearn-color-fitted-level-1);\n",
       "}\n",
       "\n",
       "/* On hover */\n",
       "div.sk-estimator:hover .sk-estimator-doc-link:hover,\n",
       ".sk-estimator-doc-link:hover,\n",
       "div.sk-label-container:hover .sk-estimator-doc-link:hover,\n",
       ".sk-estimator-doc-link:hover {\n",
       "  /* unfitted */\n",
       "  background-color: var(--sklearn-color-unfitted-level-3);\n",
       "  color: var(--sklearn-color-background);\n",
       "  text-decoration: none;\n",
       "}\n",
       "\n",
       "div.sk-estimator.fitted:hover .sk-estimator-doc-link.fitted:hover,\n",
       ".sk-estimator-doc-link.fitted:hover,\n",
       "div.sk-label-container:hover .sk-estimator-doc-link.fitted:hover,\n",
       ".sk-estimator-doc-link.fitted:hover {\n",
       "  /* fitted */\n",
       "  background-color: var(--sklearn-color-fitted-level-3);\n",
       "  color: var(--sklearn-color-background);\n",
       "  text-decoration: none;\n",
       "}\n",
       "\n",
       "/* Span, style for the box shown on hovering the info icon */\n",
       ".sk-estimator-doc-link span {\n",
       "  display: none;\n",
       "  z-index: 9999;\n",
       "  position: relative;\n",
       "  font-weight: normal;\n",
       "  right: .2ex;\n",
       "  padding: .5ex;\n",
       "  margin: .5ex;\n",
       "  width: min-content;\n",
       "  min-width: 20ex;\n",
       "  max-width: 50ex;\n",
       "  color: var(--sklearn-color-text);\n",
       "  box-shadow: 2pt 2pt 4pt #999;\n",
       "  /* unfitted */\n",
       "  background: var(--sklearn-color-unfitted-level-0);\n",
       "  border: .5pt solid var(--sklearn-color-unfitted-level-3);\n",
       "}\n",
       "\n",
       ".sk-estimator-doc-link.fitted span {\n",
       "  /* fitted */\n",
       "  background: var(--sklearn-color-fitted-level-0);\n",
       "  border: var(--sklearn-color-fitted-level-3);\n",
       "}\n",
       "\n",
       ".sk-estimator-doc-link:hover span {\n",
       "  display: block;\n",
       "}\n",
       "\n",
       "/* \"?\"-specific style due to the `<a>` HTML tag */\n",
       "\n",
       "#sk-container-id-4 a.estimator_doc_link {\n",
       "  float: right;\n",
       "  font-size: 1rem;\n",
       "  line-height: 1em;\n",
       "  font-family: monospace;\n",
       "  background-color: var(--sklearn-color-background);\n",
       "  border-radius: 1rem;\n",
       "  height: 1rem;\n",
       "  width: 1rem;\n",
       "  text-decoration: none;\n",
       "  /* unfitted */\n",
       "  color: var(--sklearn-color-unfitted-level-1);\n",
       "  border: var(--sklearn-color-unfitted-level-1) 1pt solid;\n",
       "}\n",
       "\n",
       "#sk-container-id-4 a.estimator_doc_link.fitted {\n",
       "  /* fitted */\n",
       "  border: var(--sklearn-color-fitted-level-1) 1pt solid;\n",
       "  color: var(--sklearn-color-fitted-level-1);\n",
       "}\n",
       "\n",
       "/* On hover */\n",
       "#sk-container-id-4 a.estimator_doc_link:hover {\n",
       "  /* unfitted */\n",
       "  background-color: var(--sklearn-color-unfitted-level-3);\n",
       "  color: var(--sklearn-color-background);\n",
       "  text-decoration: none;\n",
       "}\n",
       "\n",
       "#sk-container-id-4 a.estimator_doc_link.fitted:hover {\n",
       "  /* fitted */\n",
       "  background-color: var(--sklearn-color-fitted-level-3);\n",
       "}\n",
       "</style><div id=\"sk-container-id-4\" class=\"sk-top-container\"><div class=\"sk-text-repr-fallback\"><pre>LogisticRegression(max_iter=1000, random_state=42)</pre><b>In a Jupyter environment, please rerun this cell to show the HTML representation or trust the notebook. <br />On GitHub, the HTML representation is unable to render, please try loading this page with nbviewer.org.</b></div><div class=\"sk-container\" hidden><div class=\"sk-item\"><div class=\"sk-estimator fitted sk-toggleable\"><input class=\"sk-toggleable__control sk-hidden--visually\" id=\"sk-estimator-id-4\" type=\"checkbox\" checked><label for=\"sk-estimator-id-4\" class=\"sk-toggleable__label fitted sk-toggleable__label-arrow\"><div><div>LogisticRegression</div></div><div><a class=\"sk-estimator-doc-link fitted\" rel=\"noreferrer\" target=\"_blank\" href=\"https://scikit-learn.org/1.6/modules/generated/sklearn.linear_model.LogisticRegression.html\">?<span>Documentation for LogisticRegression</span></a><span class=\"sk-estimator-doc-link fitted\">i<span>Fitted</span></span></div></label><div class=\"sk-toggleable__content fitted\"><pre>LogisticRegression(max_iter=1000, random_state=42)</pre></div> </div></div></div></div>"
      ]
     },
     "execution_count": 71,
     "metadata": {},
     "output_type": "execute_result"
    }
   ],
   "execution_count": 71
  },
  {
   "metadata": {
    "ExecuteTime": {
     "end_time": "2025-05-25T21:13:57.727298Z",
     "start_time": "2025-05-25T21:13:57.686672Z"
    }
   },
   "cell_type": "code",
   "source": [
    "print(accuracy_score(y_val, svc.predict(X_val)))\n",
    "print(accuracy_score(y_val, random_forest.predict(X_val)))\n",
    "print(accuracy_score(y_val, log_reg.predict(X_val)))"
   ],
   "id": "e0bc2849507b02b5",
   "outputs": [
    {
     "name": "stdout",
     "output_type": "stream",
     "text": [
      "0.8668639053254438\n",
      "0.9437869822485208\n",
      "0.8816568047337278\n"
     ]
    }
   ],
   "execution_count": 72
  },
  {
   "metadata": {
    "ExecuteTime": {
     "end_time": "2025-05-25T21:13:57.897700Z",
     "start_time": "2025-05-25T21:13:57.851685Z"
    }
   },
   "cell_type": "code",
   "source": [
    "print(accuracy_score(y_test, svc.predict(X_test)))\n",
    "print(accuracy_score(y_test, random_forest.predict(X_test)))\n",
    "print(accuracy_score(y_test, log_reg.predict(X_test)))"
   ],
   "id": "59f6a4121f5c1166",
   "outputs": [
    {
     "name": "stdout",
     "output_type": "stream",
     "text": [
      "0.91725768321513\n",
      "0.9408983451536643\n",
      "0.8723404255319149\n"
     ]
    }
   ],
   "execution_count": 73
  },
  {
   "metadata": {},
   "cell_type": "markdown",
   "source": "# PyTorch",
   "id": "86007ea36ebe7a8f"
  },
  {
   "metadata": {
    "ExecuteTime": {
     "end_time": "2025-05-25T21:13:58.033484Z",
     "start_time": "2025-05-25T21:13:58.028497Z"
    }
   },
   "cell_type": "code",
   "source": [
    "import torch\n",
    "from torch.utils.data import DataLoader, TensorDataset\n",
    "import torch.nn as nn"
   ],
   "id": "efcc13b09e9cd9ff",
   "outputs": [],
   "execution_count": 74
  },
  {
   "metadata": {
    "ExecuteTime": {
     "end_time": "2025-05-25T21:13:58.175766Z",
     "start_time": "2025-05-25T21:13:58.171094Z"
    }
   },
   "cell_type": "code",
   "source": [
    "class LogisticRegressionModel(nn.Module):\n",
    "    def __init__(self, input_dim, output_dim):\n",
    "        super(LogisticRegressionModel, self).__init__()\n",
    "        self.linear = nn.Linear(input_dim, output_dim)  # dense linear layer, with bias included\n",
    "\n",
    "    def forward(self, x): #defines how input x moves through the model\n",
    "        return self.linear(x)  # returning raw logits"
   ],
   "id": "c7a21523350e952c",
   "outputs": [],
   "execution_count": 75
  },
  {
   "metadata": {
    "ExecuteTime": {
     "end_time": "2025-05-25T21:13:58.293315Z",
     "start_time": "2025-05-25T21:13:58.284335Z"
    }
   },
   "cell_type": "code",
   "source": [
    "def train_logistic_regression(X, y, learning_rate=0.01, batch_size=20, n_epochs=1000):\n",
    "    X_train, X_test, y_train, y_test = train_test_split(X, y, test_size=0.2, random_state=42)\n",
    "\n",
    "    X_train_tensor = torch.tensor(X_train, dtype=torch.float32)\n",
    "    y_train_tensor = torch.tensor(y_train, dtype=torch.long)\n",
    "\n",
    "    train_dataset = TensorDataset(X_train_tensor, y_train_tensor)\n",
    "    train_loader = DataLoader(train_dataset, batch_size=batch_size, shuffle=True)\n",
    "\n",
    "    input_dim = X.shape[1]\n",
    "    output_dim = len(np.unique(y))\n",
    "\n",
    "    model = LogisticRegressionModel(input_dim, output_dim)\n",
    "    loss_func = nn.CrossEntropyLoss()  # applies softmax internally\n",
    "    optimizer = torch.optim.SGD(model.parameters(), lr=learning_rate)\n",
    "\n",
    "    for _ in range(n_epochs):\n",
    "        for X_batch, y_batch in train_loader:\n",
    "            optimizer.zero_grad()              # resetting gradients\n",
    "            outputs = model(X_batch)           # raw logits\n",
    "            loss = loss_func(outputs, y_batch) # cross entropy between logits and labels\n",
    "            loss.backward()                    # calculating gradients with backprop\n",
    "            optimizer.step()                   # updating weights\n",
    "\n",
    "    return model"
   ],
   "id": "5fb6077450827594",
   "outputs": [],
   "execution_count": 76
  },
  {
   "metadata": {
    "ExecuteTime": {
     "end_time": "2025-05-25T21:13:58.398556Z",
     "start_time": "2025-05-25T21:13:58.391103Z"
    }
   },
   "cell_type": "code",
   "source": [
    "\"\"\"Zakomentowane żeby zbawić mój komputer od liczenia tego przy każdym Run All w notatniku\n",
    "\n",
    "X_train_arr = X_train.to_numpy(dtype=np.float32)\n",
    "X_test_arr = X_test.to_numpy(dtype=np.float32)\n",
    "\n",
    "X_test_tensor = torch.tensor(X_test_arr, dtype=torch.float32)\n",
    "y_test_tensor = torch.tensor(y_test, dtype=torch.long)\n",
    "\n",
    "model = train_logistic_regression(X_train_arr, y_train)\n",
    "\n",
    "with torch.no_grad(): # so we dont change gradient values\n",
    "    logits = model(X_test_tensor)\n",
    "    probs = torch.softmax(logits, 1)\n",
    "    preds = torch.argmax(probs, 1)\n",
    "\n",
    "print(accuracy_score(y_test, preds))\"\"\""
   ],
   "id": "e0d309a0eb881f0c",
   "outputs": [
    {
     "data": {
      "text/plain": [
       "'Zakomentowane żeby zbawić mój komputer od liczenia tego przy każdym Run All w notatniku\\n\\nX_train_arr = X_train.to_numpy(dtype=np.float32)\\nX_test_arr = X_test.to_numpy(dtype=np.float32)\\n\\nX_test_tensor = torch.tensor(X_test_arr, dtype=torch.float32)\\ny_test_tensor = torch.tensor(y_test, dtype=torch.long)\\n\\nmodel = train_logistic_regression(X_train_arr, y_train)\\n\\nwith torch.no_grad(): # so we dont change gradient values\\n    logits = model(X_test_tensor)\\n    probs = torch.softmax(logits, 1)\\n    preds = torch.argmax(probs, 1)\\n\\nprint(accuracy_score(y_test, preds))'"
      ]
     },
     "execution_count": 77,
     "metadata": {},
     "output_type": "execute_result"
    }
   ],
   "execution_count": 77
  },
  {
   "metadata": {},
   "cell_type": "markdown",
   "source": [
    "# Część 3\n",
    "\n",
    "# Stratified KFold"
   ],
   "id": "4110783938faed4c"
  },
  {
   "metadata": {
    "ExecuteTime": {
     "end_time": "2025-05-25T21:14:01.257301Z",
     "start_time": "2025-05-25T21:13:58.528732Z"
    }
   },
   "cell_type": "code",
   "source": [
    "from sklearn.model_selection import StratifiedKFold\n",
    "\n",
    "skf = StratifiedKFold(n_splits=3, random_state=42, shuffle=True)\n",
    "\n",
    "for train_index, test_index in skf.split(X_train, y_train):\n",
    "    X_train_n, X_test_n = X.iloc[train_index], X.iloc[test_index] # these are dataframes\n",
    "    y_train_n, y_test_n = y[train_index], y[test_index] # these are np arrays\n",
    "\n",
    "    pars = softmax_regression(X_train_n, y_train_n)\n",
    "\n",
    "    y_pred_labels = predict_softmax(X_test_n, pars)[0]\n",
    "\n",
    "    print(accuracy_score(y_test_n, y_pred_labels))"
   ],
   "id": "cecdf07c6d78ed74",
   "outputs": [
    {
     "name": "stdout",
     "output_type": "stream",
     "text": [
      "0.8206039076376554\n",
      "0.8383658969804618\n",
      "0.8291814946619217\n"
     ]
    }
   ],
   "execution_count": 78
  },
  {
   "metadata": {},
   "cell_type": "markdown",
   "source": [
    "# Regularyzacja\n",
    "L1 (lasso) - zmniejszamy niektóre wagi do 0, efektywnie eliminując znaczenie części cech. Dodajemy do funkcji straty sumę wartości bezwzględnych wag\n",
    "\n",
    "L2 (ridge) - zmniejszamy mniej istotne wagi do bardzo małych, ale różnych od 0 wartości. Dodajemy do f-cji straty sumę kwadratów wag - wyczulony na outlierów\n",
    "\n",
    "Porównanie L1 i L2"
   ],
   "id": "2d97b810aea40493"
  },
  {
   "metadata": {
    "ExecuteTime": {
     "end_time": "2025-05-25T21:14:03.783842Z",
     "start_time": "2025-05-25T21:14:01.364281Z"
    }
   },
   "cell_type": "code",
   "source": [
    "models = {\n",
    "    'no_reg': LogisticRegression(penalty=None, max_iter=10000),\n",
    "    'l1': LogisticRegression(penalty='l1', max_iter=10000, solver='saga'),\n",
    "    'l2': LogisticRegression(penalty='l2', max_iter=10000)\n",
    "}\n",
    "\n",
    "weights = {}\n",
    "scores = {}\n",
    "\n",
    "for name, mod in models.items():\n",
    "    mod.fit(X_train, y_train)\n",
    "    weights[name] = mod.coef_.ravel().copy()\n",
    "    scores[name] = mod.score(X_test, y_test)\n",
    "\n",
    "for name in models:\n",
    "    print(f'{name}: \\n acc = {scores[name]:.4f} \\n L2 norm = {np.linalg.norm(weights[name]):.4f} \\n nonzero count = {np.count_nonzero(weights[name])}')"
   ],
   "id": "9f5c2600dea5ffc5",
   "outputs": [
    {
     "name": "stdout",
     "output_type": "stream",
     "text": [
      "no_reg: \n",
      " acc = 0.9669 \n",
      " L2 norm = 645.2402 \n",
      " nonzero count = 175\n",
      "l1: \n",
      " acc = 0.9669 \n",
      " L2 norm = 77.1308 \n",
      " nonzero count = 75\n",
      "l2: \n",
      " acc = 0.8794 \n",
      " L2 norm = 20.7427 \n",
      " nonzero count = 175\n"
     ]
    }
   ],
   "execution_count": 79
  },
  {
   "metadata": {},
   "cell_type": "markdown",
   "source": "Norma L2 to pierwiastek z sumy wag. Jest znacznie niższa po regularyzacji, ponieważ obie jej metody zmniejszają wagi. Ilość niezerowych wag dla l1 znacznie spada, ponieważ l1 zeruje dużo wag, a l2 jedynie obniża ich wartości do bliskich zera",
   "id": "7c572f6af2e9b734"
  },
  {
   "metadata": {
    "ExecuteTime": {
     "end_time": "2025-05-25T21:14:08.184728Z",
     "start_time": "2025-05-25T21:14:03.890794Z"
    }
   },
   "cell_type": "code",
   "source": [
    "weights = {\n",
    "    'no_reg': softmax_regression(X_train, y_train),\n",
    "    'l1': softmax_regression(X_train, y_train, l1=0.001),\n",
    "    'l2': softmax_regression(X_train, y_train, l2=0.001)\n",
    "}\n",
    "\n",
    "for name, pars in weights.items():\n",
    "    y_pred_labels = predict_softmax(X_test, pars)[0]\n",
    "    print(f'{name}: acc = {accuracy_score(y_test, y_pred_labels)}')"
   ],
   "id": "b3b748837b12b00f",
   "outputs": [
    {
     "name": "stdout",
     "output_type": "stream",
     "text": [
      "no_reg: acc = 0.8747044917257684\n",
      "l1: acc = 0.8747044917257684\n",
      "l2: acc = 0.8132387706855791\n"
     ]
    }
   ],
   "execution_count": 80
  },
  {
   "metadata": {},
   "cell_type": "markdown",
   "source": "# Wykresy zbieżności i analiza błędów",
   "id": "28b536cb8e431f95"
  },
  {
   "metadata": {
    "ExecuteTime": {
     "end_time": "2025-05-25T21:14:08.360023Z",
     "start_time": "2025-05-25T21:14:08.284828Z"
    }
   },
   "cell_type": "code",
   "source": [
    "from sklearn.preprocessing import PolynomialFeatures\n",
    "from sklearn.metrics import f1_score\n",
    "\n",
    "X_train_n, X_valid, y_train_n, y_valid = train_test_split(X_train, y_train, test_size=0.2, random_state=42)\n",
    "\n",
    "log_reg = LogisticRegression(max_iter=1000, random_state=42)\n",
    "log_reg.fit(X_train_n, y_train_n)\n",
    "valid_preds = log_reg.predict(X_valid)\n",
    "test_preds = log_reg.predict(X_test)\n",
    "print(f'valid: f1={f1_score(y_valid, valid_preds, average=\"macro\")} \\ntest: f1={f1_score(y_test, test_preds, average=\"macro\")}')"
   ],
   "id": "8a3a6d10c4678ef5",
   "outputs": [
    {
     "name": "stdout",
     "output_type": "stream",
     "text": [
      "valid: f1=0.878474219489573 \n",
      "test: f1=0.8657662984587505\n"
     ]
    }
   ],
   "execution_count": 81
  },
  {
   "metadata": {},
   "cell_type": "markdown",
   "source": "Nie wydaje się, aby był problem z underfittingiem ani overfittingiem",
   "id": "6cf5ebcc80e27014"
  },
  {
   "metadata": {
    "ExecuteTime": {
     "end_time": "2025-05-25T21:14:08.760876Z",
     "start_time": "2025-05-25T21:14:08.460472Z"
    }
   },
   "cell_type": "code",
   "source": [
    "poly_feat = PolynomialFeatures(degree=2, include_bias=False)\n",
    "X_train_poly = poly_feat.fit_transform(X_train_n)\n",
    "X_valid_poly = poly_feat.fit_transform(X_valid)\n",
    "X_test_poly = poly_feat.fit_transform(X_test)\n",
    "log_reg.fit(X_train_poly, y_train_n)\n",
    "valid_preds = log_reg.predict(X_valid_poly)\n",
    "test_preds = log_reg.predict(X_test_poly)\n",
    "print(f'valid: f1={f1_score(y_valid, valid_preds, average=\"macro\")} \\ntest: f1={f1_score(y_test, test_preds, average=\"macro\")}')"
   ],
   "id": "ce1cd98732bc197c",
   "outputs": [
    {
     "name": "stdout",
     "output_type": "stream",
     "text": [
      "valid: f1=0.898025541602192 \n",
      "test: f1=0.8977508350624729\n"
     ]
    }
   ],
   "execution_count": 82
  },
  {
   "metadata": {},
   "cell_type": "markdown",
   "source": [
    "Wynik uległ nieznacznej poprawie\n",
    "\n",
    "Implementacja regresji supermax zaktualizowana o historię kosztu"
   ],
   "id": "1177f89244933434"
  },
  {
   "metadata": {
    "ExecuteTime": {
     "end_time": "2025-05-25T21:14:10.773233Z",
     "start_time": "2025-05-25T21:14:08.870529Z"
    }
   },
   "cell_type": "code",
   "source": [
    "import matplotlib.pyplot as plt\n",
    "\n",
    "def softmax_regression_with_history(X_train, X_test, y_train, y_test, n_classes=7, learning_rate=0.01, iters=1000, batch_size=20, l1=0.0, l2=0.0):\n",
    "\n",
    "    X_train = np.c_[np.ones((X_train.shape[0],1)), X_train] # adding bias\n",
    "    X_test = np.c_[np.ones((X_test.shape[0],1)), X_test]\n",
    "\n",
    "    y_train_one_hot = np.zeros((X_train.shape[0], n_classes))\n",
    "    y_train_one_hot[np.arange(X_train.shape[0]), y_train] = 1\n",
    "    y_test_one_hot = np.zeros((X_test.shape[0], n_classes))\n",
    "    y_test_one_hot[np.arange(X_test.shape[0]), y_test] = 1\n",
    "\n",
    "    pars = np.zeros((X_train.shape[1], n_classes))\n",
    "\n",
    "    train_losses = []\n",
    "    test_losses  = []\n",
    "\n",
    "    for _ in range(iters):\n",
    "        for i in range(0, X_train.shape[0], batch_size):\n",
    "            X_batch = X_train[i:i+batch_size]\n",
    "            y_one_hot_batch = y_train_one_hot[i:i+batch_size]\n",
    "\n",
    "            logits = X_batch @ pars\n",
    "            probs  = softmax(logits)\n",
    "\n",
    "            grad = X_batch.T @ (probs - y_one_hot_batch) / X_batch.shape[0]\n",
    "            if l2 > 0:\n",
    "                grad += 2 * l2 * pars # derivative of pars^2\n",
    "            if l1 > 0:\n",
    "                grad += l1 * np.sign(pars) # \"derivative\" of |pars|\n",
    "\n",
    "            pars -= learning_rate * grad\n",
    "\n",
    "        train_pred = softmax(X_train @ pars)\n",
    "        test_pred  = softmax(X_test  @ pars)\n",
    "        train_losses.append(cross_entropy_multiclass(y_train_one_hot, train_pred))\n",
    "        test_losses.append(cross_entropy_multiclass(y_test_one_hot, test_pred))\n",
    "\n",
    "    return pars, train_losses, test_losses\n",
    "\n",
    "_, train_losses, test_losses = softmax_regression_with_history(X_train, X_test, y_train, y_test)\n",
    "\n",
    "plt.plot(train_losses, label='Train loss')\n",
    "plt.plot(test_losses, label='Test loss')\n",
    "plt.xlabel('Epoch')\n",
    "plt.ylabel('Loss')\n",
    "plt.legend()\n",
    "plt.grid(True)\n",
    "plt.show()"
   ],
   "id": "7c9c40103d1ce590",
   "outputs": [
    {
     "data": {
      "text/plain": [
       "<Figure size 640x480 with 1 Axes>"
      ],
      "image/png": "[encoded data removed]"
     },
     "metadata": {},
     "output_type": "display_data"
    }
   ],
   "execution_count": 83
  },
  {
   "metadata": {},
   "cell_type": "markdown",
   "source": [
    "Na podstawie wykresu nie wydaje się, żeby ani underfitting ani overfitting były problemem\n",
    "\n",
    "Sprawdźmy jak wygląda dla rozszerzonych cech"
   ],
   "id": "2248f5f3e1d73306"
  },
  {
   "metadata": {
    "ExecuteTime": {
     "end_time": "2025-05-25T21:14:14.602707Z",
     "start_time": "2025-05-25T21:14:10.866902Z"
    }
   },
   "cell_type": "code",
   "source": [
    "_, train_losses, test_losses = softmax_regression_with_history(X_train_poly, X_test_poly, y_train_n, y_test)\n",
    "\n",
    "plt.plot(train_losses, label='Train loss')\n",
    "plt.plot(test_losses, label='Test loss')\n",
    "plt.xlabel('Epoch')\n",
    "plt.ylabel('Loss')\n",
    "plt.legend()\n",
    "plt.grid(True)\n",
    "plt.show()"
   ],
   "id": "5d8ee53cd3330c8e",
   "outputs": [
    {
     "data": {
      "text/plain": [
       "<Figure size 640x480 with 1 Axes>"
      ],
      "image/png": "[encoded data removed]"
     },
     "metadata": {},
     "output_type": "display_data"
    }
   ],
   "execution_count": 84
  },
  {
   "metadata": {},
   "cell_type": "markdown",
   "source": "Overfitting - train loss maleje, a test loss rośnie",
   "id": "29a9280aba0ee599"
  },
  {
   "metadata": {
    "ExecuteTime": {
     "end_time": "2025-05-25T21:14:16.466305Z",
     "start_time": "2025-05-25T21:14:14.716830Z"
    }
   },
   "cell_type": "code",
   "source": [
    "X_train_stripped = X_train.iloc[:, 10:]\n",
    "X_test_stripped = X_test.iloc[:, 10:]\n",
    "\n",
    "_, train_losses, test_losses = softmax_regression_with_history(X_train_stripped, X_test_stripped, y_train, y_test)\n",
    "\n",
    "plt.plot(train_losses, label='Train loss')\n",
    "plt.plot(test_losses, label='Test loss')\n",
    "plt.xlabel('Epoch')\n",
    "plt.ylabel('Loss')\n",
    "plt.legend()\n",
    "plt.grid(True)\n",
    "plt.show()"
   ],
   "id": "3219b543bc3d272d",
   "outputs": [
    {
     "data": {
      "text/plain": [
       "<Figure size 640x480 with 1 Axes>"
      ],
      "image/png": "[encoded data removed]"
     },
     "metadata": {},
     "output_type": "display_data"
    }
   ],
   "execution_count": 85
  },
  {
   "metadata": {},
   "cell_type": "markdown",
   "source": "Gorszy performance niż na oryginalnym zbiorze",
   "id": "c9a641f136c2575"
  },
  {
   "metadata": {},
   "cell_type": "markdown",
   "source": "# Balansowanie zbiorów",
   "id": "f9f195c927a8de15"
  },
  {
   "metadata": {
    "ExecuteTime": {
     "end_time": "2025-05-25T21:15:45.705560Z",
     "start_time": "2025-05-25T21:15:44.254396Z"
    }
   },
   "cell_type": "code",
   "source": [
    "from imblearn.over_sampling import SMOTE\n",
    "from imblearn.under_sampling import TomekLinks\n",
    "from sklearn.metrics import precision_score, recall_score\n",
    "\n",
    "smote = SMOTE(random_state=42)\n",
    "tomek = TomekLinks(sampling_strategy='majority')\n",
    "\n",
    "X_smote, y_smote = smote.fit_resample(X, y)\n",
    "X_smote_train, X_smote_test, y_smote_train, y_smote_test = train_test_split(X_smote, y_smote, test_size=0.2, random_state=42)\n",
    "X_tomek, y_tomek = tomek.fit_resample(X, y)\n",
    "X_tomek_train, X_tomek_test, y_tomek_train, y_tomek_test = train_test_split(X_tomek, y_tomek, test_size=0.2, random_state=42)\n",
    "\n",
    "models = {'svc': SVC(random_state=42),\n",
    "          'rfc': RandomForestClassifier(random_state=42),\n",
    "          'log_reg': LogisticRegression(max_iter=1000, random_state=42)}\n",
    "\n",
    "def print_scores(models, X_train, X_test, y_train, y_test):\n",
    "    for name, model in models.items():\n",
    "        model.fit(X_train, y_train)\n",
    "        y_pred_labels = model.predict(X_test)\n",
    "        print(f'{name}: precision={precision_score(y_test, y_pred_labels, average=\"macro\")}, recall={recall_score(y_test, y_pred_labels, average=\"macro\")}, f1={f1_score(y_test, y_pred_labels, average=\"macro\")}')\n",
    "\n",
    "print('Original dataset')\n",
    "print_scores(models, X_train, X_test, y_train, y_test)\n",
    "\n",
    "print('SMOTE')\n",
    "print_scores(models, X_smote_train, X_smote_test, y_smote_train, y_smote_test)\n",
    "\n",
    "print('TomekLinks')\n",
    "print_scores(models, X_tomek_train, X_tomek_test, y_tomek_train, y_tomek_test)"
   ],
   "id": "f3b877e266788999",
   "outputs": [
    {
     "name": "stdout",
     "output_type": "stream",
     "text": [
      "Original dataset\n",
      "svc: precision=0.9210877365841047, recall=0.9188021168936471, f1=0.9194598934128327\n",
      "rfc: precision=0.9444107786530519, recall=0.9448554414492758, f1=0.9444400358145033\n",
      "log_reg: precision=0.8758577249143286, recall=0.8793652607787361, f1=0.8730525478649866\n",
      "SMOTE\n",
      "svc: precision=0.9104236028159708, recall=0.9076824095731659, f1=0.9085681371441048\n",
      "rfc: precision=0.956139768714034, recall=0.9550657363682573, f1=0.9554994400294071\n",
      "log_reg: precision=0.8884039463738711, recall=0.8870215653829099, f1=0.8837075361971004\n",
      "TomekLinks\n",
      "svc: precision=0.8918148737227684, recall=0.8871844762810362, f1=0.8882530339023421\n",
      "rfc: precision=0.9324690980347203, recall=0.9244738397178195, f1=0.9266451441648221\n",
      "log_reg: precision=0.8635302710685434, recall=0.8622588267764103, f1=0.860450471413034\n"
     ]
    }
   ],
   "execution_count": 91
  },
  {
   "metadata": {},
   "cell_type": "markdown",
   "source": [
    "Niewielkie zmiany. Ponieważ oryginalny dataset jest dobrze zbalansowany, dodatkowe balansowanie niewiele daje, w wielu przypadkach wręcz pogarsza wynik\n",
    "\n",
    "Poniżej przykład użycia z moją implementacją regresji softmax"
   ],
   "id": "44945d7f914cec29"
  },
  {
   "metadata": {
    "ExecuteTime": {
     "end_time": "2025-05-25T21:14:19.829062Z",
     "start_time": "2025-05-25T21:14:18.156895Z"
    }
   },
   "cell_type": "code",
   "source": [
    "weights = softmax_regression(X_smote_train, y_smote_train)\n",
    "y_pred_labels = predict_softmax(X_smote_test, weights)[0]\n",
    "print(f'precision={precision_score(y_smote_test, y_pred_labels, average=\"macro\")}, recall={recall_score(y_smote_test, y_pred_labels, average=\"macro\")}, f1={f1_score(y_smote_test, y_pred_labels, average=\"macro\")}')"
   ],
   "id": "dbec4ec95d7fdb56",
   "outputs": [
    {
     "name": "stdout",
     "output_type": "stream",
     "text": [
      "precision=0.8787089719057927, recall=0.8766670550283997, f1=0.8728723107315934\n"
     ]
    }
   ],
   "execution_count": 87
  },
  {
   "metadata": {},
   "cell_type": "markdown",
   "source": "# Optymalizacja hiperparametrów",
   "id": "97f623b112472304"
  },
  {
   "metadata": {
    "ExecuteTime": {
     "end_time": "2025-05-25T21:14:31.823960Z",
     "start_time": "2025-05-25T21:14:19.927278Z"
    }
   },
   "cell_type": "code",
   "source": [
    "from sklearn.model_selection import GridSearchCV\n",
    "\n",
    "rfc = RandomForestClassifier(random_state=42)\n",
    "rfc_params_grid = {\n",
    "    'n_estimators': [50, 100, 200],\n",
    "    'max_depth': [None, 10, 20, 30],\n",
    "    'min_samples_split': [2, 5, 10]\n",
    "}\n",
    "rfc_grid = GridSearchCV(rfc, rfc_params_grid, scoring='f1_macro', n_jobs=-1)\n",
    "\n",
    "svc = SVC(random_state=42)\n",
    "svc_params_grid = {\n",
    "    'kernel': ['linear', 'rbf', 'sigmoid'],\n",
    "    'C': [0.1, 1, 10],\n",
    "    'gamma': ['scale', 'auto']\n",
    "}\n",
    "svc_grid = GridSearchCV(svc, svc_params_grid, scoring='f1_macro', n_jobs=-1)\n",
    "\n",
    "rfc_grid.fit(X_train, y_train)\n",
    "svc_grid.fit(X_train, y_train)\n",
    "\n",
    "y_pred_labels = rfc_grid.predict(X_test)\n",
    "print(f'rfc\\nBest params: {rfc_grid.best_params_} \\nf1={f1_score(y_test, y_pred_labels, average=\"macro\")}')\n",
    "\n",
    "y_pred_labels = svc_grid.predict(X_test)\n",
    "print(f'svc\\nBest params: {svc_grid.best_params_} \\nf1={f1_score(y_test, y_pred_labels, average=\"macro\")}')"
   ],
   "id": "e6e9c36819471c98",
   "outputs": [
    {
     "name": "stdout",
     "output_type": "stream",
     "text": [
      "rfc\n",
      "Best params: {'max_depth': None, 'min_samples_split': 2, 'n_estimators': 100} \n",
      "f1=0.9444400358145033\n",
      "svc\n",
      "Best params: {'C': 10, 'gamma': 'scale', 'kernel': 'linear'} \n",
      "f1=0.9726834830415393\n"
     ]
    }
   ],
   "execution_count": 88
  },
  {
   "metadata": {},
   "cell_type": "markdown",
   "source": [
    "W rfc praktycznie bez różnicy, svc zdecydowanie pomogło\n",
    "\n",
    "# Ensemble methods"
   ],
   "id": "3df1b58108163982"
  },
  {
   "metadata": {
    "ExecuteTime": {
     "end_time": "2025-05-25T21:14:34.845416Z",
     "start_time": "2025-05-25T21:14:31.943317Z"
    }
   },
   "cell_type": "code",
   "source": [
    "from sklearn.ensemble import VotingClassifier, StackingClassifier\n",
    "from sklearn.linear_model import LogisticRegressionCV\n",
    "\n",
    "voting_classifier = VotingClassifier(\n",
    "    estimators=[\n",
    "        ('log_reg', LogisticRegression(max_iter=1000, random_state=42)),\n",
    "        ('rf', RandomForestClassifier(random_state=42)),\n",
    "        ('svc', SVC(probability=True, random_state=42))\n",
    "    ],\n",
    "    voting='soft', n_jobs=-1\n",
    ") # soft voting considers probabilities\n",
    "\n",
    "stacking_classifier = StackingClassifier(\n",
    "    estimators=[\n",
    "        ('log_reg', LogisticRegression(max_iter=1000, random_state=42)),\n",
    "        ('rf', RandomForestClassifier(random_state=42)),\n",
    "        ('svc', SVC(probability=True, random_state=42))\n",
    "    ],\n",
    "    final_estimator=LogisticRegressionCV(max_iter=1000, random_state=42), # automatically selects the best regularization strength and type\n",
    "    cv=3\n",
    ")\n",
    "\n",
    "models={\n",
    "    'voting': voting_classifier,\n",
    "    'stacking': stacking_classifier\n",
    "}\n",
    "\n",
    "print_scores(models, X_train, X_test, y_train, y_test)"
   ],
   "id": "d20c1c67ca1f95f2",
   "outputs": [
    {
     "name": "stdout",
     "output_type": "stream",
     "text": [
      "voting: precision=0.9441302876853109, recall=0.9443235463090858, f1=0.9440821591893521\n",
      "stacking: precision=0.9585196033555136, recall=0.9595816445856175, f1=0.9589910091022222\n"
     ]
    }
   ],
   "execution_count": 89
  },
  {
   "metadata": {},
   "cell_type": "markdown",
   "source": "# Mixture of experts",
   "id": "138fc1f8bef69eb1"
  },
  {
   "metadata": {
    "ExecuteTime": {
     "end_time": "2025-05-25T21:14:35.509744Z",
     "start_time": "2025-05-25T21:14:34.956055Z"
    }
   },
   "cell_type": "code",
   "source": [
    "def mixture_of_experts(X_train, X_test, y_train, experts, gating_model):\n",
    "    X_train_n, X_valid, y_train_n, y_valid = train_test_split(X_train, y_train, test_size=0.3, random_state=42)\n",
    "\n",
    "    fitted_experts={}\n",
    "    for name, model in experts:\n",
    "        model.fit(X_train_n, y_train_n)\n",
    "        fitted_experts[name] = model\n",
    "\n",
    "    def _expert_preds(X):\n",
    "        return np.column_stack([fitted_experts[name].predict(X) for name, _ in experts])\n",
    "\n",
    "    valid_preds = _expert_preds(X_valid)\n",
    "    correct = (valid_preds == y_valid.reshape(-1, 1)).astype(int)\n",
    "    best_expert_idx = np.argmax(correct, axis=1)\n",
    "\n",
    "    gating_model.fit(X_valid, best_expert_idx)\n",
    "\n",
    "    test_preds = _expert_preds(X_test)\n",
    "    picked_expert_idx = gating_model.predict(X_test)\n",
    "    final_pred = np.array([test_preds[i, picked_expert_idx[i]] for i in range(len(X_test))])\n",
    "\n",
    "    return final_pred\n",
    "\n",
    "experts = [\n",
    "    ('rfc', RandomForestClassifier(random_state=42)),\n",
    "    ('svc', SVC(random_state=42)),\n",
    "    ('log_reg', LogisticRegression(max_iter=1000, random_state=42))\n",
    "]\n",
    "\n",
    "y_pred_labels = mixture_of_experts(X_train, X_test, y_train, experts, LogisticRegressionCV(max_iter=1000, random_state=42))\n",
    "\n",
    "print(f'MoE \\nf1={f1_score(y_test, y_pred_labels, average=\"macro\")}')"
   ],
   "id": "42bbd59821a858d0",
   "outputs": [
    {
     "name": "stdout",
     "output_type": "stream",
     "text": [
      "MoE \n",
      "f1=0.9319759365954081\n"
     ]
    }
   ],
   "execution_count": 90
  }
 ],
 "metadata": {
  "kernelspec": {
   "display_name": "Python 3",
   "language": "python",
   "name": "python3"
  },
  "language_info": {
   "codemirror_mode": {
    "name": "ipython",
    "version": 2
   },
   "file_extension": ".py",
   "mimetype": "text/x-python",
   "name": "python",
   "nbconvert_exporter": "python",
   "pygments_lexer": "ipython2",
   "version": "2.7.6"
  }
 },
 "nbformat": 4,
 "nbformat_minor": 5
}
